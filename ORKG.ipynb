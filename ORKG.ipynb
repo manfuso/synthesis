{
 "cells": [
  {
   "cell_type": "markdown",
   "id": "175728f7-24bb-4077-b539-5fc751c0e18b",
   "metadata": {
    "raw_mimetype": "text/html",
    "tags": []
   },
   "source": [
    "**Initialising ORKG for synthesis**"
   ]
  },
  {
   "cell_type": "code",
   "execution_count": 1,
   "id": "fa9b6b9b-0698-476e-ab86-d6cb667c6014",
   "metadata": {
    "tags": []
   },
   "outputs": [
    {
     "name": "stderr",
     "output_type": "stream",
     "text": [
      "Updating HTML index of packages in '.Library'\n",
      "\n",
      "Making 'packages.html' ...\n",
      " done\n",
      "\n",
      "Downloading GitLab repo TIBHannover/orkg/orkg-r@HEAD\n",
      "from URL https://gitlab.com/api/v4/projects/38478922/repository/archive.tar.gz?sha=HEAD\n",
      "\n"
     ]
    },
    {
     "name": "stdout",
     "output_type": "stream",
     "text": [
      "\n",
      "\u001b[36m──\u001b[39m \u001b[36mR CMD build\u001b[39m \u001b[36m─────────────────────────────────────────────────────────────────\u001b[39m\n",
      "* checking for file ‘/tmp/RtmpLKAaG1/remotes7b0600f243e/orkg-r-HEAD-a2545c2b31722810a7c25a2289430c8972aa262f/DESCRIPTION’ ... OK\n",
      "* preparing ‘orkg’:\n",
      "* checking DESCRIPTION meta-information ... OK\n",
      "* checking for LF line-endings in source and make files and shell scripts\n",
      "* checking for empty or unneeded directories\n",
      "Omitted ‘LazyData’ from DESCRIPTION\n",
      "* building ‘orkg_0.1.0.tar.gz’\n",
      "\n"
     ]
    }
   ],
   "source": [
    "# Install latest version of the ORKG R package from Git\n",
    "install.packages('remotes')\n",
    "remotes::install_gitlab(\"TIBHannover/orkg/orkg-r\", force=TRUE)"
   ]
  },
  {
   "cell_type": "code",
   "execution_count": 5,
   "id": "bffd5893-7f48-4340-82e7-b9fdac33101e",
   "metadata": {
    "tags": []
   },
   "outputs": [],
   "source": [
    "# Connect with ORKG\n",
    "library(orkg)\n",
    "orkg <- ORKG(host='https://incubating.orkg.org/')"
   ]
  },
  {
   "cell_type": "code",
   "execution_count": 6,
   "id": "b5a2d9cb-2889-4398-b179-f6bee1a69b38",
   "metadata": {
    "tags": []
   },
   "outputs": [
    {
     "data": {
      "text/html": [
       "<table class=\"dataframe\">\n",
       "<caption>A data.frame: 3 × 5</caption>\n",
       "<thead>\n",
       "\t<tr><th></th><th scope=col>p-value</th><th scope=col>t-value</th><th scope=col>DF</th><th scope=col>Std.Error</th><th scope=col>Value</th></tr>\n",
       "\t<tr><th></th><th scope=col>&lt;chr&gt;</th><th scope=col>&lt;chr&gt;</th><th scope=col>&lt;chr&gt;</th><th scope=col>&lt;chr&gt;</th><th scope=col>&lt;chr&gt;</th></tr>\n",
       "</thead>\n",
       "<tbody>\n",
       "\t<tr><th scope=row>(Intercept)</th><td>0.5768</td><td>0.5668</td><td>21</td><td>0.0791</td><td>0.0449</td></tr>\n",
       "\t<tr><th scope=row>mead_250</th><td>0.0054</td><td>3.1029</td><td>21</td><td>0.1866</td><td>0.5791</td></tr>\n",
       "\t<tr><th scope=row>Year2015</th><td>0     </td><td>5.5384</td><td>21</td><td>0.0582</td><td>0.3225</td></tr>\n",
       "</tbody>\n",
       "</table>\n"
      ],
      "text/latex": [
       "A data.frame: 3 × 5\n",
       "\\begin{tabular}{r|lllll}\n",
       "  & p-value & t-value & DF & Std.Error & Value\\\\\n",
       "  & <chr> & <chr> & <chr> & <chr> & <chr>\\\\\n",
       "\\hline\n",
       "\t(Intercept) & 0.5768 & 0.5668 & 21 & 0.0791 & 0.0449\\\\\n",
       "\tmead\\_250 & 0.0054 & 3.1029 & 21 & 0.1866 & 0.5791\\\\\n",
       "\tYear2015 & 0      & 5.5384 & 21 & 0.0582 & 0.3225\\\\\n",
       "\\end{tabular}\n"
      ],
      "text/markdown": [
       "\n",
       "A data.frame: 3 × 5\n",
       "\n",
       "| <!--/--> | p-value &lt;chr&gt; | t-value &lt;chr&gt; | DF &lt;chr&gt; | Std.Error &lt;chr&gt; | Value &lt;chr&gt; |\n",
       "|---|---|---|---|---|---|\n",
       "| (Intercept) | 0.5768 | 0.5668 | 21 | 0.0791 | 0.0449 |\n",
       "| mead_250 | 0.0054 | 3.1029 | 21 | 0.1866 | 0.5791 |\n",
       "| Year2015 | 0      | 5.5384 | 21 | 0.0582 | 0.3225 |\n",
       "\n"
      ],
      "text/plain": [
       "            p-value t-value DF Std.Error Value \n",
       "(Intercept) 0.5768  0.5668  21 0.0791    0.0449\n",
       "mead_250    0.0054  3.1029  21 0.1866    0.5791\n",
       "Year2015    0       5.5384  21 0.0582    0.3225"
      ]
     },
     "metadata": {},
     "output_type": "display_data"
    }
   ],
   "source": [
    "# Retrieve resouce from ORKG\n",
    "PerezAlvarez2018 <- orkg$resources$by_id('R535310')$as_dataframe()\n",
    "PerezAlvarez2018"
   ]
  },
  {
   "cell_type": "code",
   "execution_count": 7,
   "id": "88339cb2-9ac2-4bb4-a124-8568450ba057",
   "metadata": {
    "tags": []
   },
   "outputs": [
    {
     "data": {
      "text/html": [
       "<table class=\"dataframe\">\n",
       "<caption>A data.frame: 2 × 5</caption>\n",
       "<thead>\n",
       "\t<tr><th></th><th scope=col>Pr..Chi.</th><th scope=col>Resid..Dev</th><th scope=col>Resid..Df</th><th scope=col>Deviance</th><th scope=col>Df</th></tr>\n",
       "\t<tr><th></th><th scope=col>&lt;chr&gt;</th><th scope=col>&lt;chr&gt;</th><th scope=col>&lt;chr&gt;</th><th scope=col>&lt;chr&gt;</th><th scope=col>&lt;chr&gt;</th></tr>\n",
       "</thead>\n",
       "<tbody>\n",
       "\t<tr><th scope=row>NULL</th><td>NA   </td><td>31.8955</td><td>24</td><td>NA    </td><td>NA</td></tr>\n",
       "\t<tr><th scope=row>shdi</th><td>0.035</td><td>27.4522</td><td>23</td><td>4.4433</td><td>1 </td></tr>\n",
       "</tbody>\n",
       "</table>\n"
      ],
      "text/latex": [
       "A data.frame: 2 × 5\n",
       "\\begin{tabular}{r|lllll}\n",
       "  & Pr..Chi. & Resid..Dev & Resid..Df & Deviance & Df\\\\\n",
       "  & <chr> & <chr> & <chr> & <chr> & <chr>\\\\\n",
       "\\hline\n",
       "\tNULL & NA    & 31.8955 & 24 & NA     & NA\\\\\n",
       "\tshdi & 0.035 & 27.4522 & 23 & 4.4433 & 1 \\\\\n",
       "\\end{tabular}\n"
      ],
      "text/markdown": [
       "\n",
       "A data.frame: 2 × 5\n",
       "\n",
       "| <!--/--> | Pr..Chi. &lt;chr&gt; | Resid..Dev &lt;chr&gt; | Resid..Df &lt;chr&gt; | Deviance &lt;chr&gt; | Df &lt;chr&gt; |\n",
       "|---|---|---|---|---|---|\n",
       "| NULL | NA    | 31.8955 | 24 | NA     | NA |\n",
       "| shdi | 0.035 | 27.4522 | 23 | 4.4433 | 1  |\n",
       "\n"
      ],
      "text/plain": [
       "     Pr..Chi. Resid..Dev Resid..Df Deviance Df\n",
       "NULL NA       31.8955    24        NA       NA\n",
       "shdi 0.035    27.4522    23        4.4433   1 "
      ]
     },
     "metadata": {},
     "output_type": "display_data"
    }
   ],
   "source": [
    "Paredes2022 <- orkg$resources$by_id('R539697')$as_dataframe()\n",
    "Paredes2022"
   ]
  },
  {
   "cell_type": "code",
   "execution_count": 8,
   "id": "d05ab870-9709-4873-b295-c120acdd95a3",
   "metadata": {
    "tags": []
   },
   "outputs": [
    {
     "data": {
      "text/html": [
       "0.0054"
      ],
      "text/latex": [
       "0.0054"
      ],
      "text/markdown": [
       "0.0054"
      ],
      "text/plain": [
       "[1] 0.0054"
      ]
     },
     "metadata": {},
     "output_type": "display_data"
    }
   ],
   "source": [
    "# Example\n",
    "mead_250_P <- as.numeric(PerezAlvarez2018['mead_250',]['p-value'])\n",
    "mead_250_P"
   ]
  },
  {
   "cell_type": "code",
   "execution_count": null,
   "id": "75720d4d-f696-49bd-ab63-f41dbeb83776",
   "metadata": {},
   "outputs": [],
   "source": []
  }
 ],
 "metadata": {
  "kernelspec": {
   "display_name": "R",
   "language": "R",
   "name": "ir"
  },
  "language_info": {
   "codemirror_mode": "r",
   "file_extension": ".r",
   "mimetype": "text/x-r-source",
   "name": "R",
   "pygments_lexer": "r",
   "version": "4.2.2"
  },
  "toc-autonumbering": true,
  "toc-showmarkdowntxt": true
 },
 "nbformat": 4,
 "nbformat_minor": 5
}
