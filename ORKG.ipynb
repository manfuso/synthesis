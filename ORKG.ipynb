{
 "cells": [
  {
   "cell_type": "markdown",
   "id": "175728f7-24bb-4077-b539-5fc751c0e18b",
   "metadata": {
    "raw_mimetype": "text/html",
    "tags": []
   },
   "source": [
    "**Initialising ORKG for synthesis**"
   ]
  },
  {
   "cell_type": "code",
   "execution_count": null,
   "id": "fa9b6b9b-0698-476e-ab86-d6cb667c6014",
   "metadata": {
    "tags": []
   },
   "outputs": [],
   "source": [
    "# Install latest version of the ORKG R package from Git\n",
    "install.packages('remotes')\n",
    "remotes::install_gitlab(\"TIBHannover/orkg/orkg-r\")"
   ]
  },
  {
   "cell_type": "markdown",
   "id": "64e84f27-9e65-49e7-b478-d10121de1e9c",
   "metadata": {},
   "source": []
  },
  {
   "cell_type": "code",
   "execution_count": 7,
   "id": "bffd5893-7f48-4340-82e7-b9fdac33101e",
   "metadata": {
    "tags": []
   },
   "outputs": [],
   "source": [
    "# Connect with ORKG\n",
    "library(orkg)\n",
    "orkg <- ORKG(host='https://incubating.orkg.org/')"
   ]
  },
  {
   "cell_type": "code",
   "execution_count": 9,
   "id": "b5a2d9cb-2889-4398-b179-f6bee1a69b38",
   "metadata": {
    "tags": []
   },
   "outputs": [],
   "source": [
    "# Retrieve resouce from ORKG\n",
    "PerezAlvarez2018 <- orkg$resources$by_id('R535310')$as_dataframe()\n",
    "PerezAlvarez2018"
   ]
  },
  {
   "cell_type": "code",
   "execution_count": 5,
   "id": "88339cb2-9ac2-4bb4-a124-8568450ba057",
   "metadata": {
    "tags": []
   },
   "outputs": [
    {
     "data": {
      "text/html": [
       "<table class=\"dataframe\">\n",
       "<caption>A data.frame: 3 × 5</caption>\n",
       "<thead>\n",
       "\t<tr><th></th><th scope=col>p-value</th><th scope=col>t-value</th><th scope=col>DF</th><th scope=col>Std.Error</th><th scope=col>Value</th></tr>\n",
       "\t<tr><th></th><th scope=col>&lt;chr&gt;</th><th scope=col>&lt;chr&gt;</th><th scope=col>&lt;chr&gt;</th><th scope=col>&lt;chr&gt;</th><th scope=col>&lt;chr&gt;</th></tr>\n",
       "</thead>\n",
       "<tbody>\n",
       "\t<tr><th scope=row>(Intercept)</th><td>0.5768</td><td>0.5668</td><td>21</td><td>0.0791</td><td>0.0449</td></tr>\n",
       "\t<tr><th scope=row>mead_250</th><td>0.0054</td><td>3.1029</td><td>21</td><td>0.1866</td><td>0.5791</td></tr>\n",
       "\t<tr><th scope=row>Year2015</th><td>0     </td><td>5.5384</td><td>21</td><td>0.0582</td><td>0.3225</td></tr>\n",
       "</tbody>\n",
       "</table>\n"
      ],
      "text/latex": [
       "A data.frame: 3 × 5\n",
       "\\begin{tabular}{r|lllll}\n",
       "  & p-value & t-value & DF & Std.Error & Value\\\\\n",
       "  & <chr> & <chr> & <chr> & <chr> & <chr>\\\\\n",
       "\\hline\n",
       "\t(Intercept) & 0.5768 & 0.5668 & 21 & 0.0791 & 0.0449\\\\\n",
       "\tmead\\_250 & 0.0054 & 3.1029 & 21 & 0.1866 & 0.5791\\\\\n",
       "\tYear2015 & 0      & 5.5384 & 21 & 0.0582 & 0.3225\\\\\n",
       "\\end{tabular}\n"
      ],
      "text/markdown": [
       "\n",
       "A data.frame: 3 × 5\n",
       "\n",
       "| <!--/--> | p-value &lt;chr&gt; | t-value &lt;chr&gt; | DF &lt;chr&gt; | Std.Error &lt;chr&gt; | Value &lt;chr&gt; |\n",
       "|---|---|---|---|---|---|\n",
       "| (Intercept) | 0.5768 | 0.5668 | 21 | 0.0791 | 0.0449 |\n",
       "| mead_250 | 0.0054 | 3.1029 | 21 | 0.1866 | 0.5791 |\n",
       "| Year2015 | 0      | 5.5384 | 21 | 0.0582 | 0.3225 |\n",
       "\n"
      ],
      "text/plain": [
       "            p-value t-value DF Std.Error Value \n",
       "(Intercept) 0.5768  0.5668  21 0.0791    0.0449\n",
       "mead_250    0.0054  3.1029  21 0.1866    0.5791\n",
       "Year2015    0       5.5384  21 0.0582    0.3225"
      ]
     },
     "metadata": {},
     "output_type": "display_data"
    }
   ],
   "source": []
  },
  {
   "cell_type": "code",
   "execution_count": 32,
   "id": "d05ab870-9709-4873-b295-c120acdd95a3",
   "metadata": {
    "tags": []
   },
   "outputs": [
    {
     "data": {
      "text/html": [
       "0.0054"
      ],
      "text/latex": [
       "0.0054"
      ],
      "text/markdown": [
       "0.0054"
      ],
      "text/plain": [
       "[1] 0.0054"
      ]
     },
     "metadata": {},
     "output_type": "display_data"
    }
   ],
   "source": [
    "# Example\n",
    "mead_250_P <- as.numeric(PerezAlvarez2018['mead_250',]['p-value'])\n",
    "mead_250_P"
   ]
  },
  {
   "cell_type": "code",
   "execution_count": null,
   "id": "75720d4d-f696-49bd-ab63-f41dbeb83776",
   "metadata": {},
   "outputs": [],
   "source": []
  }
 ],
 "metadata": {
  "kernelspec": {
   "display_name": "R",
   "language": "R",
   "name": "ir"
  },
  "language_info": {
   "codemirror_mode": "r",
   "file_extension": ".r",
   "mimetype": "text/x-r-source",
   "name": "R",
   "pygments_lexer": "r",
   "version": "4.2.2"
  },
  "toc-autonumbering": true,
  "toc-showmarkdowntxt": true
 },
 "nbformat": 4,
 "nbformat_minor": 5
}
